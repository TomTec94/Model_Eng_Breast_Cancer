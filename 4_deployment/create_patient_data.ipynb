{
 "cells": [
  {
   "cell_type": "code",
   "id": "initial_id",
   "metadata": {
    "collapsed": true,
    "ExecuteTime": {
     "end_time": "2024-12-13T15:06:36.538177Z",
     "start_time": "2024-12-13T15:06:36.503619Z"
    }
   },
   "source": [
    "import pandas as pd\n",
    "import os\n",
    "\n",
    "file_path = \"../2_data_acquisition_understanding/data/processed/reduced_features.csv\"\n",
    "output_dir = \"../4_deployment/samples\"\n",
    "\n",
    "expected_features = [\n",
    "    'radius_mean', 'texture_mean', 'smoothness_mean', 'compactness_mean',\n",
    "    'symmetry_mean', 'fractal_dimension_mean', 'radius_se', 'texture_se',\n",
    "    'smoothness_se', 'compactness_se', 'concavity_se', 'concave points_se',\n",
    "    'symmetry_se', 'fractal_dimension_se', 'smoothness_worst',\n",
    "    'symmetry_worst', 'fractal_dimension_worst', 'diagnosis_binary'\n",
    "]\n",
    "\n",
    "# load data\n",
    "df = pd.read_csv(file_path)\n",
    "\n",
    "#diagnosis_binary = 0)\n",
    "benign_df = df[df['diagnosis_binary'] == 0]\n",
    "if len(benign_df) > 0:\n",
    "    benign_sample = benign_df.sample(1)\n",
    "    benign_sample.drop(columns=['diagnosis_binary']).to_csv(os.path.join(output_dir, \"new_patient_data_benign.csv\"), index=False)\n",
    "else:\n",
    "    print(\"NaN\")\n",
    "\n",
    "#diagnosis_binary = 1)\n",
    "malignant_df = df[df['diagnosis_binary'] == 1]\n",
    "if len(malignant_df) > 0:\n",
    "    malignant_sample = malignant_df.sample(1)\n",
    "    malignant_sample.drop(columns=['diagnosis_binary']).to_csv(os.path.join(output_dir, \"new_patient_data_malignant.csv\"), index=False)\n",
    "else:\n",
    "    print(\"NaN\")\n",
    "\n",
    "# critical values\n",
    "critical_df = df[(df['radius_mean'] >= 12) & (df['radius_mean'] <= 14)]\n",
    "if len(critical_df) > 0:\n",
    "    critical_sample = critical_df.sample(1)\n",
    "    critical_sample.drop(columns=['diagnosis_binary']).to_csv(os.path.join(output_dir, \"new_patient_data_critical.csv\"), index=False)\n",
    "else:\n",
    "    print(\"NaN\")\n"
   ],
   "outputs": [],
   "execution_count": 3
  },
  {
   "metadata": {
    "ExecuteTime": {
     "end_time": "2024-12-12T21:23:18.071646Z",
     "start_time": "2024-12-12T21:23:18.038115Z"
    }
   },
   "cell_type": "code",
   "source": "# TODO: Reale Testset aus der Datei extrahieren",
   "id": "b8dfd382b09afe8f",
   "outputs": [],
   "execution_count": 3
  }
 ],
 "metadata": {
  "kernelspec": {
   "display_name": "Python 3.10 (venv2)",
   "language": "python",
   "name": "venv2"
  },
  "language_info": {
   "codemirror_mode": {
    "name": "ipython",
    "version": 2
   },
   "file_extension": ".py",
   "mimetype": "text/x-python",
   "name": "python",
   "nbconvert_exporter": "python",
   "pygments_lexer": "ipython2",
   "version": "2.7.6"
  }
 },
 "nbformat": 4,
 "nbformat_minor": 5
}
