{
 "cells": [
  {
   "cell_type": "code",
   "id": "64b5f83909b9bcd8",
   "metadata": {
    "ExecuteTime": {
     "end_time": "2024-12-12T19:49:07.823710Z",
     "start_time": "2024-12-12T19:49:07.082751Z"
    }
   },
   "source": [
    "import pandas as pd\n",
    "import joblib\n",
    "import shap"
   ],
   "outputs": [],
   "execution_count": 1
  },
  {
   "metadata": {
    "ExecuteTime": {
     "end_time": "2024-12-12T19:51:59.728814Z",
     "start_time": "2024-12-12T19:51:59.648295Z"
    }
   },
   "cell_type": "code",
   "source": [
    "\n",
    "# Load model and preprocessor\n",
    "model = joblib.load(\"../3_modeling/models/best_ebm.pkl\")          # Adjust path as needed"
   ],
   "id": "12f2116c54cd2458",
   "outputs": [],
   "execution_count": 5
  },
  {
   "metadata": {},
   "cell_type": "code",
   "source": [
    "# Load reference training data (for SHAP initialization)\n",
    "X_train = pd.read_csv(\"../models/X_train_reference.csv\")  # Contains at least the 7 features\n",
    "expected_features = [\n",
    "  'radius_mean', 'texture_mean', 'smoothness_mean', 'compactness_mean',\n",
    "       'symmetry_mean', 'fractal_dimension_mean', 'radius_se', 'texture_se',\n",
    "       'smoothness_se', 'compactness_se', 'concavity_se', 'concave points_se',\n",
    "       'symmetry_se', 'fractal_dimension_se', 'smoothness_worst',\n",
    "       'symmetry_worst', 'fractal_dimension_worst']\n"
   ],
   "id": "3bad41eb3397fd98",
   "outputs": [],
   "execution_count": null
  },
  {
   "metadata": {},
   "cell_type": "code",
   "outputs": [],
   "execution_count": null,
   "source": [
    "\n",
    "# Initialize SHAP explainer using training data\n",
    "explainer = shap.Explainer(model.predict_proba, X_train[expected_features])"
   ],
   "id": "e1fabacca2923ba7"
  },
  {
   "metadata": {},
   "cell_type": "code",
   "outputs": [],
   "execution_count": null,
   "source": [
    "\n",
    "# Example patient input (in a real scenario, a doctor would input these values)\n",
    "input_data = {\n",
    "    \"radius_mean\": 12.3,\n",
    "    \"texture_mean\": 17.5,\n",
    "    \"radius_se\": 0.35,\n",
    "    \"area_mean\": 500.0,\n",
    "    \"smoothness_mean\": 0.09,\n",
    "    \"compactness_mean\": 0.07,\n",
    "    \"concavity_mean\": 0.03\n",
    "}"
   ],
   "id": "469af6a2a340a69a"
  },
  {
   "metadata": {},
   "cell_type": "code",
   "outputs": [],
   "execution_count": null,
   "source": [
    "\n",
    "X_input = pd.DataFrame([input_data])\n",
    "\n",
    "# Preprocess input\n",
    "X_input_prepared = preprocessor.transform(X_input)\n",
    "\n",
    "# Predict probability of malignant\n",
    "pred_proba = model.predict_proba(X_input_prepared)[:, 1][0]\n",
    "prediction = \"malignant\" if pred_proba > 0.5 else \"benign\"\n",
    "\n",
    "# Get local explanation with SHAP\n",
    "shap_values = explainer(X_input)[0].values\n",
    "feature_contributions = dict(zip(expected_features, shap_values))\n",
    "\n",
    "# Sort features by absolute contribution\n",
    "sorted_features = sorted(feature_contributions.items(), key=lambda x: abs(x[1]), reverse=True)\n",
    "top_contributors = sorted_features[:3]\n",
    "\n",
    "# Check for critical ranges (for example, radius_mean between 12 and 14 is known as a tricky range)\n",
    "warning_msg = \"\"\n",
    "if 12 <= input_data[\"radius_mean\"] <= 14:\n",
    "    warning_msg = (\n",
    "        \"Note: The radius_mean value is in a critical range where misclassifications \"\n",
    "        \"occur more frequently. A manual expert review is recommended.\"\n",
    "    )\n",
    "\n",
    "# Display results to the doctor\n",
    "print(\"Prediction for this patient case:\")\n",
    "print(f\"- Model prediction: {prediction} (Malignant probability: {pred_proba*100:.2f}%)\")\n",
    "\n",
    "if warning_msg:\n",
    "    print(f\"**Warning:** {warning_msg}\")\n",
    "\n",
    "print(\"\\nKey drivers of this decision:\")\n",
    "for feat, val in top_contributors:\n",
    "    direction = \"increases\" if val > 0 else \"decreases\"\n",
    "    print(f\"- {feat}: {direction} the malignant probability\")"
   ],
   "id": "a83f28eed8646da1"
  }
 ],
 "metadata": {
  "kernelspec": {
   "display_name": "Python 3.10 (venv2)",
   "language": "python",
   "name": "venv2"
  },
  "language_info": {
   "codemirror_mode": {
    "name": "ipython",
    "version": 2
   },
   "file_extension": ".py",
   "mimetype": "text/x-python",
   "name": "python",
   "nbconvert_exporter": "python",
   "pygments_lexer": "ipython2",
   "version": "2.7.6"
  }
 },
 "nbformat": 4,
 "nbformat_minor": 5
}
